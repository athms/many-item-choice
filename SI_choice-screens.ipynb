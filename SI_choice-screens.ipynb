{
 "cells": [
  {
   "cell_type": "code",
   "execution_count": null,
   "metadata": {},
   "outputs": [],
   "source": [
    "from pathlib import Path\n",
    "import os\n",
    "import shutil\n",
    "import numpy as np\n",
    "import pandas as pd\n",
    "\n",
    "from PIL import Image, ImageDraw\n",
    "import matplotlib.pyplot as plt\n",
    "%matplotlib inline"
   ]
  },
  {
   "cell_type": "code",
   "execution_count": null,
   "metadata": {},
   "outputs": [],
   "source": [
    "# exp. data\n",
    "setsizes = [9, 16, 25, 36]\n",
    "subjects = np.arange(49)\n",
    "\n",
    "stimulus_dir = 'data/stimuli/'\n",
    "stimuli = [s for s in os.listdir(stimulus_dir)]\n",
    "\n",
    "output_dir = 'results/exemplar_choice-screens/'\n",
    "if not os.path.isdir(output_dir):\n",
    "    os.makedirs(output_dir)"
   ]
  },
  {
   "cell_type": "code",
   "execution_count": null,
   "metadata": {},
   "outputs": [],
   "source": [
    "def make_choice_screen(trial_stimuli, stimulus_positions, stimulus_dir):\n",
    "    # black background\n",
    "    screen = Image.new(mode='RGBA', size=(1280, 1024), color='black')\n",
    "    for i, stimfile in enumerate(trial_stimuli):\n",
    "        # get stim pos\n",
    "        stimbox = stimulus_positions.loc[i].values.astype(np.int)\n",
    "        # get target size\n",
    "        stimsize = (stimbox[2]-stimbox[0], stimbox[3]-stimbox[1])\n",
    "        # load stim img\n",
    "        stimimg = Image.open(stimulus_dir+stimfile)\n",
    "        # resize stim\n",
    "        stimimg = stimimg.resize(size=stimsize)\n",
    "        # paste\n",
    "        screen.paste(stimimg, box=stimbox)\n",
    "    return screen"
   ]
  },
  {
   "cell_type": "code",
   "execution_count": null,
   "metadata": {
    "scrolled": false
   },
   "outputs": [],
   "source": [
    "np.random.seed(1)\n",
    "\n",
    "for setsize in setsizes:\n",
    "    # load data\n",
    "    setsize_data = pd.read_csv('data/summary_files/{}_data.csv'.format(setsize))\n",
    "    stimulus_positions = pd.read_csv('data/stimulus_positions/{}_stimulus_positions.csv'.format(setsize), header=None)\n",
    "    stimulus_centers = np.concatenate((\n",
    "        (stimulus_positions.loc[:,0].values+0.5*(stimulus_positions.loc[:,2].values-stimulus_positions.loc[:,0].values))[:,None],\n",
    "        (stimulus_positions.loc[:,1].values+0.5*(stimulus_positions.loc[:,3].values-stimulus_positions.loc[:,1].values))[:,None]), axis=1)\n",
    "    for subject in subjects:\n",
    "        # subset & load data\n",
    "        subject_data = setsize_data[setsize_data['subject']==subject].copy()\n",
    "        subject_gaze_data = pd.read_csv('data/subject_files/{}_{}_fixations.csv'.format(subject, setsize))\n",
    "        # get trials\n",
    "        trials = subject_gaze_data.trial.unique()\n",
    "        for trial in np.unique(trials):\n",
    "            out_path = output_dir+'setsize-{}_sub-{}_trial-{}.png'.format(setsize, subject, trial)\n",
    "            if not os.path.isfile(out_path):\n",
    "                print('Processing: setsize: {}, subject: {}, trial: {}'.format(setsize, subject, trial))\n",
    "                # subset data\n",
    "                trial_data = subject_data[subject_data['trial']==trial].copy()\n",
    "                trial_gaze_data = subject_gaze_data[subject_gaze_data['trial']==trial].copy()\n",
    "                # get trial stimuli\n",
    "                trial_stimuli = trial_data[['stimulus_{}'.format(i) for i in range(setsize)]].values[0]\n",
    "                # make choice screen\n",
    "                choice_screen = make_choice_screen(trial_stimuli, stimulus_positions, stimulus_dir)\n",
    "                # make gif & save\n",
    "                choice_screen.save(out_path)"
   ]
  },
  {
   "cell_type": "code",
   "execution_count": null,
   "metadata": {},
   "outputs": [],
   "source": []
  }
 ],
 "metadata": {
  "kernelspec": {
   "display_name": "Python 3",
   "language": "python",
   "name": "python3"
  },
  "language_info": {
   "codemirror_mode": {
    "name": "ipython",
    "version": 3
   },
   "file_extension": ".py",
   "mimetype": "text/x-python",
   "name": "python",
   "nbconvert_exporter": "python",
   "pygments_lexer": "ipython3",
   "version": "3.6.12"
  }
 },
 "nbformat": 4,
 "nbformat_minor": 2
}
