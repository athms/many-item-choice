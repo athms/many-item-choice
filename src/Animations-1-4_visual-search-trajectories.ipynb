{
 "cells": [
  {
   "cell_type": "markdown",
   "metadata": {},
   "source": [
    "This notebook generates videos (as .GIF files) for the visual search trajectories of each subject in each trial in each choice set size. \n",
    "\n",
    "Momentary gaze positions are marked by a white square, while choices are indicated by the red square. For better visibility, all fixation durations have been doubled. The resulting .GIF files are stored to '../results/visual-search-trajectories/'. \n",
    "\n",
    "Animations 1-4 of the manuscript are from the following combination of set size, subject, and trial:\n",
    "- Animation 1: set size: 9, subject: 11, trial: 8\n",
    "- Animation 2: set size: 16, subject: 0, trial: 76\n",
    "- Animation 3: set size: 25, subject: 7, trial: 137\n",
    "- Animation 4: set size: 36, subject: 37, trial: 24"
   ]
  },
  {
   "cell_type": "code",
   "execution_count": null,
   "metadata": {},
   "outputs": [],
   "source": [
    "from pathlib import Path\n",
    "import os\n",
    "import shutil\n",
    "import numpy as np\n",
    "import pandas as pd\n",
    "from PIL import Image, ImageDraw\n",
    "\n",
    "import matplotlib.pyplot as plt\n",
    "%matplotlib inline\n",
    "\n",
    "from utils.general import make_sure_path_exists"
   ]
  },
  {
   "cell_type": "markdown",
   "metadata": {},
   "source": [
    "# Descriptives"
   ]
  },
  {
   "cell_type": "code",
   "execution_count": null,
   "metadata": {},
   "outputs": [],
   "source": [
    "# set sizes & subjects:\n",
    "setsizes = [9, 16, 25, 36]\n",
    "subjects = np.arange(49)\n",
    "\n",
    "# directories\n",
    "data_dir = '../data/'\n",
    "results_dir = '../results/'\n",
    "video_dir = results_dir+'visual-search-trajectories/'\n",
    "make_sure_path_exists(video_dir)\n",
    "\n",
    "# read out stimuli\n",
    "stimulus_dir = data_dir+'stimuli/'\n",
    "stimuli = [s for s in os.listdir(stimulus_dir)]"
   ]
  },
  {
   "cell_type": "code",
   "execution_count": null,
   "metadata": {},
   "outputs": [],
   "source": [
    "def make_fix_screen(r=20):\n",
    "    \"\"\"\n",
    "    make fixation cross screen\n",
    "    \"\"\"\n",
    "    # black background\n",
    "    screen = Image.new(mode='RGBA', size=(1280, 1024), color='black')\n",
    "    # add fix cross\n",
    "    fix_draw = ImageDraw.Draw(screen) \n",
    "    screen_center = np.array([1280, 1024])/2\n",
    "    # horizontal\n",
    "    fix_draw.line((screen_center[0]-r, screen_center[1],\n",
    "                   screen_center[0]+r, screen_center[1]),\n",
    "                  fill='white', width=5)\n",
    "    # vertical\n",
    "    fix_draw.line((screen_center[0], screen_center[1]-r,\n",
    "                   screen_center[0], screen_center[1]+r),\n",
    "                  fill='white', width=5)\n",
    "    return screen"
   ]
  },
  {
   "cell_type": "code",
   "execution_count": null,
   "metadata": {},
   "outputs": [],
   "source": [
    "def make_choice_screen(trial_stimuli, stimulus_positions, stimulus_dir):\n",
    "    \"\"\"\n",
    "    make choice set screen\n",
    "    \"\"\"\n",
    "    # black background\n",
    "    screen = Image.new(mode='RGBA', size=(1280, 1024), color='black')\n",
    "    for i, stimfile in enumerate(trial_stimuli):\n",
    "        # get stim pos\n",
    "        stimbox = stimulus_positions.loc[i].values.astype(np.int)\n",
    "        # get target size\n",
    "        stimsize = (stimbox[2]-stimbox[0], stimbox[3]-stimbox[1])\n",
    "        # load stim img\n",
    "        stimimg = Image.open(stimulus_dir+stimfile)\n",
    "        # resize stim\n",
    "        stimimg = stimimg.resize(size=stimsize)\n",
    "        # paste\n",
    "        screen.paste(stimimg, box=stimbox)\n",
    "    return screen"
   ]
  },
  {
   "cell_type": "code",
   "execution_count": null,
   "metadata": {},
   "outputs": [],
   "source": [
    "def draw_gaze_marker(screen, pos, color='white', width=5):\n",
    "    \"\"\"\n",
    "    add current gaze position to screen\n",
    "    \"\"\"\n",
    "    # init draw\n",
    "    box_draw = ImageDraw.Draw(screen)\n",
    "    # horizontal left\n",
    "    box_draw.line((pos[0], pos[1],\n",
    "                   pos[2], pos[1]),\n",
    "                  fill=color, width=width)\n",
    "    # horizontal right\n",
    "    box_draw.line((pos[0], pos[3],\n",
    "                   pos[2], pos[3]),\n",
    "                  fill=color, width=width)\n",
    "    # vertical top\n",
    "    box_draw.line((pos[0], pos[1],\n",
    "                   pos[0], pos[3]),\n",
    "                  fill=color, width=width)\n",
    "    # vertical bottom\n",
    "    box_draw.line((pos[2], pos[1],\n",
    "                   pos[2], pos[3]),\n",
    "                  fill=color, width=width)\n",
    "    return screen"
   ]
  },
  {
   "cell_type": "code",
   "execution_count": null,
   "metadata": {
    "scrolled": false
   },
   "outputs": [],
   "source": [
    "np.random.seed(1)\n",
    "\n",
    "for setsize in setsizes:\n",
    "    # load data\n",
    "    setsize_data = pd.read_csv(data_dir+'summary_files/setsize-{}_desc-data.csv'.format(setsize))\n",
    "    stimulus_positions = pd.read_csv(data_dir+'stimulus_positions/setsize-{}_desc-stimulus_positions.csv'.format(setsize))\n",
    "    stimulus_centers = np.concatenate(((stimulus_positions.loc[:,'x_left'].values+0.5*(stimulus_positions.loc[:,'x_right'].values-stimulus_positions.loc[:,'x_left'].values))[:,None],\n",
    "                                       (stimulus_positions.loc[:,'y_top'].values+0.5*(stimulus_positions.loc[:,'y_lower'].values-stimulus_positions.loc[:,'y_top'].values))[:,None]), axis=1)\n",
    "    for subject in subjects:\n",
    "        # subset & load data\n",
    "        subject_data = setsize_data[setsize_data['subject']==subject].copy()\n",
    "        subject_gaze_data = pd.read_csv(data_dir+'subject_files/sub-{}_setsize-{}_desc-gazes.csv'.format(subject, setsize))\n",
    "        # get trials\n",
    "        trials = subject_gaze_data.trial.unique()\n",
    "        for trial in trials:\n",
    "            # define filepath\n",
    "            gif_filepath = video_dir+'sub-{}_setsize-{}_trial-{}_desc-visual_search.gif'.format(subject, setsize, trial)\n",
    "            if not os.path.isfile(gif_filepath):\n",
    "                print('Processing: setsize: {}, subject: {}, trial: {}'.format(setsize, subject, trial))\n",
    "                # subset data\n",
    "                trial_data = subject_data[subject_data['trial']==trial].copy()\n",
    "                trial_gaze_data = subject_gaze_data[subject_gaze_data['trial']==trial].copy()\n",
    "                # get trial stimuli\n",
    "                trial_stimuli = trial_data[['stimulus_{}'.format(i) for i in range(setsize)]].values[0]\n",
    "                # make fix screen\n",
    "                fix_screen = make_fix_screen()\n",
    "                # make choice screen\n",
    "                trial_img = [fix_screen]\n",
    "                for fi, fixitem in enumerate(trial_gaze_data['item'].values.astype(np.int)):\n",
    "                    # make choice screen\n",
    "                    fix_screen = make_choice_screen(trial_stimuli, stimulus_positions, stimulus_dir)\n",
    "                    # add fixation markers\n",
    "                    fix_screen = draw_gaze_marker(fix_screen, stimulus_positions.loc[fixitem])\n",
    "                    # collect\n",
    "                    trial_img.append(fix_screen)\n",
    "                # add choice indication\n",
    "                choice_screen = make_choice_screen(trial_stimuli, stimulus_positions, stimulus_dir)\n",
    "                choice_screen = draw_gaze_marker(choice_screen,\n",
    "                                                 stimulus_positions.loc[trial_data['choice'].values[0]],\n",
    "                                                 color='red', width=5)\n",
    "                trial_img.append(choice_screen)\n",
    "                # make gif & save\n",
    "                trial_img[0].save(gif_filepath, save_all=True, optimize=False, append_images=trial_img[1:], loop=0, \n",
    "                                  duration=[500*2]+list(trial_gaze_data['dur'].values.astype(np.int)*2)+[500*2])"
   ]
  }
 ],
 "metadata": {
  "kernelspec": {
   "display_name": "Python 3",
   "language": "python",
   "name": "python3"
  },
  "language_info": {
   "codemirror_mode": {
    "name": "ipython",
    "version": 3
   },
   "file_extension": ".py",
   "mimetype": "text/x-python",
   "name": "python",
   "nbconvert_exporter": "python",
   "pygments_lexer": "ipython3",
   "version": "3.6.12"
  }
 },
 "nbformat": 4,
 "nbformat_minor": 2
}
