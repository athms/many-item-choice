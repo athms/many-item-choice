{
 "cells": [
  {
   "cell_type": "markdown",
   "metadata": {},
   "source": [
    "This notebook re-creates the choice screens that were used in the experiment.\n",
    "\n",
    "Each choice screen is stored as a .png file in '../results/exemplar_choice-screens/'"
   ]
  },
  {
   "cell_type": "code",
   "execution_count": null,
   "metadata": {},
   "outputs": [],
   "source": [
    "import os\n",
    "import numpy as np\n",
    "import pandas as pd\n",
    "from PIL import Image"
   ]
  },
  {
   "cell_type": "markdown",
   "metadata": {},
   "source": [
    "# Descriptives"
   ]
  },
  {
   "cell_type": "code",
   "execution_count": null,
   "metadata": {},
   "outputs": [],
   "source": [
    "setsizes = [9, 16, 25, 36]\n",
    "subjects = np.arange(49)\n",
    "\n",
    "# stimulus image directory\n",
    "data_dir = '../data/'\n",
    "stimulus_dir = data_dir+'stimuli/'\n",
    "# read out stimuli\n",
    "stimuli = [s for s in os.listdir(stimulus_dir)]\n",
    "\n",
    "# define output dir\n",
    "output_dir = data_dir+'choice-screens/'\n",
    "os.makedirs(output_dir, exist_ok=True)"
   ]
  },
  {
   "cell_type": "markdown",
   "metadata": {},
   "source": [
    "# Re-create choice screens"
   ]
  },
  {
   "cell_type": "code",
   "execution_count": null,
   "metadata": {},
   "outputs": [],
   "source": [
    "def make_choice_screen(trial_stimuli, stimulus_positions, stimulus_dir):\n",
    "    # black background\n",
    "    screen = Image.new(mode='RGBA', size=(1280, 1024), color='black')\n",
    "    for i, stimfile in enumerate(trial_stimuli):\n",
    "        # get stimulus positions\n",
    "        stimbox = stimulus_positions.loc[i].values.astype(np.int)\n",
    "        # get target size\n",
    "        stimsize = (stimbox[2]-stimbox[0], stimbox[3]-stimbox[1])\n",
    "        # load stim img\n",
    "        stimimg = Image.open(stimulus_dir+stimfile)\n",
    "        # resize stimulus\n",
    "        stimimg = stimimg.resize(size=stimsize)\n",
    "        # paste to screen\n",
    "        screen.paste(stimimg, box=stimbox)\n",
    "    return screen"
   ]
  },
  {
   "cell_type": "code",
   "execution_count": null,
   "metadata": {
    "scrolled": false
   },
   "outputs": [],
   "source": [
    "# iterate set sizes\n",
    "for setsize in setsizes:\n",
    "    # load data\n",
    "    setsize_data = pd.read_csv(data_dir+'summary_files/{}_data.csv'.format(setsize))\n",
    "    stimulus_positions = pd.read_csv(data_dir+'stimulus_positions/{}_stimulus_positions.csv'.format(setsize), header=None)\n",
    "    # define stimulus centers\n",
    "    stimulus_centers = np.concatenate((\n",
    "        (stimulus_positions.loc[:,0].values+0.5*(stimulus_positions.loc[:,2].values-stimulus_positions.loc[:,0].values))[:,None],\n",
    "        (stimulus_positions.loc[:,1].values+0.5*(stimulus_positions.loc[:,3].values-stimulus_positions.loc[:,1].values))[:,None]), axis=1)\n",
    "    # iterate subjects\n",
    "    for subject in subjects:\n",
    "        # subset to & load subject data\n",
    "        subject_data = setsize_data[setsize_data['subject']==subject].copy()\n",
    "        subject_gaze_data = pd.read_csv(data_dir+'subject_files/{}_{}_fixations.csv'.format(subject, setsize))\n",
    "        # extract trials\n",
    "        trials = subject_gaze_data.trial.unique()\n",
    "        # iterate trials\n",
    "        for trial in np.unique(trials):\n",
    "            # check if choice screen file exists already\n",
    "            screen_filepath = output_dir+'setsize-{}_sub-{}_trial-{}.png'.format(setsize, subject, trial)\n",
    "            if not os.path.isfile(screen_filepath):\n",
    "                print('Processing: setsize: {}, subject: {}, trial: {}'.format(setsize, subject, trial))\n",
    "                # subset data\n",
    "                trial_data = subject_data[subject_data['trial']==trial].copy()\n",
    "                trial_gaze_data = subject_gaze_data[subject_gaze_data['trial']==trial].copy()\n",
    "                # get trial stimuli\n",
    "                trial_stimuli = trial_data[['stimulus_{}'.format(i) for i in range(setsize)]].values[0]\n",
    "                # make choice screen\n",
    "                choice_screen = make_choice_screen(trial_stimuli, stimulus_positions, stimulus_dir)\n",
    "                # make gif & save\n",
    "                choice_screen.save(screen_filepath)"
   ]
  }
 ],
 "metadata": {
  "kernelspec": {
   "display_name": "Python 3",
   "language": "python",
   "name": "python3"
  },
  "language_info": {
   "codemirror_mode": {
    "name": "ipython",
    "version": 3
   },
   "file_extension": ".py",
   "mimetype": "text/x-python",
   "name": "python",
   "nbconvert_exporter": "python",
   "pygments_lexer": "ipython3",
   "version": "3.6.12"
  }
 },
 "nbformat": 4,
 "nbformat_minor": 2
}
