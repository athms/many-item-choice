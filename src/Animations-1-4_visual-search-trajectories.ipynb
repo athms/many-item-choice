{
 "cells": [
  {
   "cell_type": "markdown",
   "metadata": {},
   "source": [
    "This notebook generates videos (as .GIF files) for the visual search trajectories of each subject in each trial in each choice set size. \n",
    "\n",
    "Momentary fixation positions are marked by a white square, while choices are indicated by the red square. For better visibility, all fixation durations have been doubled. The resulting .GIF files are stored to '../results/exemplar_visual-search-trajectories/'. \n",
    "\n",
    "Animations 1-4 of the manuscript are from the following combination of set size, subject, and trial:\n",
    "- Animation 1: set size: 9, subject: 11, trial: 8\n",
    "- Animation 2: set size: 16, subject: 0, trial: 76\n",
    "- Animation 3: set size: 25, subject: 7, trial: 137\n",
    "- Animation 4: set size: 36, subject: 37, trial: 24"
   ]
  },
  {
   "cell_type": "code",
   "execution_count": null,
   "metadata": {},
   "outputs": [],
   "source": [
    "from pathlib import Path\n",
    "import os\n",
    "import shutil\n",
    "import numpy as np\n",
    "import pandas as pd\n",
    "from PIL import Image, ImageDraw\n",
    "\n",
    "import matplotlib.pyplot as plt\n",
    "%matplotlib inline\n",
    "\n",
    "from utils.general import make_sure_path_exists"
   ]
  },
  {
   "cell_type": "markdown",
   "metadata": {},
   "source": [
    "# Descriptives"
   ]
  },
  {
   "cell_type": "code",
   "execution_count": 2,
   "metadata": {},
   "outputs": [],
   "source": [
    "# set sizes & subjects:\n",
    "setsizes = [9, 16, 25, 36]\n",
    "subjects = np.arange(49)\n",
    "\n",
    "# directories\n",
    "data_dir = '../data/'\n",
    "results_dir = '../results/'\n",
    "video_dir = results_dir+'exemplar_visual-search-trajectories/'\n",
    "make_sure_path_exists(video_dir)\n",
    "\n",
    "# read out stimuli\n",
    "stimulus_dir = data_dir+'stimuli/'\n",
    "stimuli = [s for s in os.listdir(stimulus_dir)]"
   ]
  },
  {
   "cell_type": "code",
   "execution_count": 3,
   "metadata": {},
   "outputs": [],
   "source": [
    "def make_fix_screen(r=20):\n",
    "    \"\"\"\n",
    "    make fixation cross screen\n",
    "    \"\"\"\n",
    "    # black background\n",
    "    screen = Image.new(mode='RGBA', size=(1280, 1024), color='black')\n",
    "    # add fix cross\n",
    "    fix_draw = ImageDraw.Draw(screen) \n",
    "    screen_center = np.array([1280, 1024])/2\n",
    "    # horizontal\n",
    "    fix_draw.line((screen_center[0]-r, screen_center[1],\n",
    "                   screen_center[0]+r, screen_center[1]),\n",
    "                  fill='white', width=5)\n",
    "    # vertical\n",
    "    fix_draw.line((screen_center[0], screen_center[1]-r,\n",
    "                   screen_center[0], screen_center[1]+r),\n",
    "                  fill='white', width=5)\n",
    "    return screen"
   ]
  },
  {
   "cell_type": "code",
   "execution_count": 4,
   "metadata": {},
   "outputs": [],
   "source": [
    "def make_choice_screen(trial_stimuli, stimulus_positions, stimulus_dir):\n",
    "    \"\"\"\n",
    "    make choice set screen\n",
    "    \"\"\"\n",
    "    # black background\n",
    "    screen = Image.new(mode='RGBA', size=(1280, 1024), color='black')\n",
    "    for i, stimfile in enumerate(trial_stimuli):\n",
    "        # get stim pos\n",
    "        stimbox = stimulus_positions.loc[i].values.astype(np.int)\n",
    "        # get target size\n",
    "        stimsize = (stimbox[2]-stimbox[0], stimbox[3]-stimbox[1])\n",
    "        # load stim img\n",
    "        stimimg = Image.open(stimulus_dir+stimfile)\n",
    "        # resize stim\n",
    "        stimimg = stimimg.resize(size=stimsize)\n",
    "        # paste\n",
    "        screen.paste(stimimg, box=stimbox)\n",
    "    return screen"
   ]
  },
  {
   "cell_type": "code",
   "execution_count": 5,
   "metadata": {},
   "outputs": [],
   "source": [
    "def draw_gaze_marker(screen, pos, color='white', width=5):\n",
    "    \"\"\"\n",
    "    add current gaze position to screen\n",
    "    \"\"\"\n",
    "    # init draw\n",
    "    box_draw = ImageDraw.Draw(screen)\n",
    "    # horizontal left\n",
    "    box_draw.line((pos[0], pos[1],\n",
    "                   pos[2], pos[1]),\n",
    "                  fill=color, width=width)\n",
    "    # horizontal right\n",
    "    box_draw.line((pos[0], pos[3],\n",
    "                   pos[2], pos[3]),\n",
    "                  fill=color, width=width)\n",
    "    # vertical top\n",
    "    box_draw.line((pos[0], pos[1],\n",
    "                   pos[0], pos[3]),\n",
    "                  fill=color, width=width)\n",
    "    # vertical bottom\n",
    "    box_draw.line((pos[2], pos[1],\n",
    "                   pos[2], pos[3]),\n",
    "                  fill=color, width=width)\n",
    "    return screen"
   ]
  },
  {
   "cell_type": "code",
   "execution_count": 6,
   "metadata": {
    "scrolled": false
   },
   "outputs": [
    {
     "name": "stdout",
     "output_type": "stream",
     "text": [
      "Processing: setsize: 9, subject: 5, trial: 112\n",
      "Processing: setsize: 9, subject: 5, trial: 113\n",
      "Processing: setsize: 9, subject: 5, trial: 116\n",
      "Processing: setsize: 9, subject: 5, trial: 118\n",
      "Processing: setsize: 9, subject: 5, trial: 120\n",
      "Processing: setsize: 9, subject: 5, trial: 123\n",
      "Processing: setsize: 9, subject: 5, trial: 124\n",
      "Processing: setsize: 9, subject: 5, trial: 130\n",
      "Processing: setsize: 9, subject: 5, trial: 139\n",
      "Processing: setsize: 9, subject: 5, trial: 146\n",
      "Processing: setsize: 9, subject: 5, trial: 151\n",
      "Processing: setsize: 9, subject: 5, trial: 156\n",
      "Processing: setsize: 9, subject: 5, trial: 158\n",
      "Processing: setsize: 9, subject: 5, trial: 160\n",
      "Processing: setsize: 9, subject: 5, trial: 162\n",
      "Processing: setsize: 9, subject: 5, trial: 169\n",
      "Processing: setsize: 9, subject: 5, trial: 172\n",
      "Processing: setsize: 9, subject: 5, trial: 176\n",
      "Processing: setsize: 9, subject: 5, trial: 181\n",
      "Processing: setsize: 9, subject: 5, trial: 185\n",
      "Processing: setsize: 9, subject: 5, trial: 187\n",
      "Processing: setsize: 9, subject: 5, trial: 197\n",
      "Processing: setsize: 9, subject: 6, trial: 3\n",
      "Processing: setsize: 9, subject: 6, trial: 9\n",
      "Processing: setsize: 9, subject: 6, trial: 10\n",
      "Processing: setsize: 9, subject: 6, trial: 14\n",
      "Processing: setsize: 9, subject: 6, trial: 20\n",
      "Processing: setsize: 9, subject: 6, trial: 23\n",
      "Processing: setsize: 9, subject: 6, trial: 42\n",
      "Processing: setsize: 9, subject: 6, trial: 43\n",
      "Processing: setsize: 9, subject: 6, trial: 44\n",
      "Processing: setsize: 9, subject: 6, trial: 46\n",
      "Processing: setsize: 9, subject: 6, trial: 52\n",
      "Processing: setsize: 9, subject: 6, trial: 65\n",
      "Processing: setsize: 9, subject: 6, trial: 69\n",
      "Processing: setsize: 9, subject: 6, trial: 84\n",
      "Processing: setsize: 9, subject: 6, trial: 88\n"
     ]
    },
    {
     "ename": "KeyboardInterrupt",
     "evalue": "",
     "output_type": "error",
     "traceback": [
      "\u001b[0;31m---------------------------------------------------------------------------\u001b[0m",
      "\u001b[0;31mKeyboardInterrupt\u001b[0m                         Traceback (most recent call last)",
      "\u001b[0;32m<ipython-input-6-4f5c74719063>\u001b[0m in \u001b[0;36m<module>\u001b[0;34m\u001b[0m\n\u001b[1;32m     31\u001b[0m                 \u001b[0;32mfor\u001b[0m \u001b[0mfi\u001b[0m\u001b[0;34m,\u001b[0m \u001b[0mfixitem\u001b[0m \u001b[0;32min\u001b[0m \u001b[0menumerate\u001b[0m\u001b[0;34m(\u001b[0m\u001b[0mtrial_gaze_data\u001b[0m\u001b[0;34m[\u001b[0m\u001b[0;34m'item'\u001b[0m\u001b[0;34m]\u001b[0m\u001b[0;34m.\u001b[0m\u001b[0mvalues\u001b[0m\u001b[0;34m.\u001b[0m\u001b[0mastype\u001b[0m\u001b[0;34m(\u001b[0m\u001b[0mnp\u001b[0m\u001b[0;34m.\u001b[0m\u001b[0mint\u001b[0m\u001b[0;34m)\u001b[0m\u001b[0;34m)\u001b[0m\u001b[0;34m:\u001b[0m\u001b[0;34m\u001b[0m\u001b[0;34m\u001b[0m\u001b[0m\n\u001b[1;32m     32\u001b[0m                     \u001b[0;31m# make choice screen\u001b[0m\u001b[0;34m\u001b[0m\u001b[0;34m\u001b[0m\u001b[0;34m\u001b[0m\u001b[0m\n\u001b[0;32m---> 33\u001b[0;31m                     \u001b[0mfix_screen\u001b[0m \u001b[0;34m=\u001b[0m \u001b[0mmake_choice_screen\u001b[0m\u001b[0;34m(\u001b[0m\u001b[0mtrial_stimuli\u001b[0m\u001b[0;34m,\u001b[0m \u001b[0mstimulus_positions\u001b[0m\u001b[0;34m,\u001b[0m \u001b[0mstimulus_dir\u001b[0m\u001b[0;34m)\u001b[0m\u001b[0;34m\u001b[0m\u001b[0;34m\u001b[0m\u001b[0m\n\u001b[0m\u001b[1;32m     34\u001b[0m                     \u001b[0;31m# add fixation markers\u001b[0m\u001b[0;34m\u001b[0m\u001b[0;34m\u001b[0m\u001b[0;34m\u001b[0m\u001b[0m\n\u001b[1;32m     35\u001b[0m                     \u001b[0mfix_screen\u001b[0m \u001b[0;34m=\u001b[0m \u001b[0mdraw_gaze_marker\u001b[0m\u001b[0;34m(\u001b[0m\u001b[0mfix_screen\u001b[0m\u001b[0;34m,\u001b[0m \u001b[0mstimulus_positions\u001b[0m\u001b[0;34m.\u001b[0m\u001b[0mloc\u001b[0m\u001b[0;34m[\u001b[0m\u001b[0mfixitem\u001b[0m\u001b[0;34m]\u001b[0m\u001b[0;34m)\u001b[0m\u001b[0;34m\u001b[0m\u001b[0;34m\u001b[0m\u001b[0m\n",
      "\u001b[0;32m<ipython-input-4-216cf9bf73c8>\u001b[0m in \u001b[0;36mmake_choice_screen\u001b[0;34m(trial_stimuli, stimulus_positions, stimulus_dir)\u001b[0m\n\u001b[1;32m      7\u001b[0m     \u001b[0;32mfor\u001b[0m \u001b[0mi\u001b[0m\u001b[0;34m,\u001b[0m \u001b[0mstimfile\u001b[0m \u001b[0;32min\u001b[0m \u001b[0menumerate\u001b[0m\u001b[0;34m(\u001b[0m\u001b[0mtrial_stimuli\u001b[0m\u001b[0;34m)\u001b[0m\u001b[0;34m:\u001b[0m\u001b[0;34m\u001b[0m\u001b[0;34m\u001b[0m\u001b[0m\n\u001b[1;32m      8\u001b[0m         \u001b[0;31m# get stim pos\u001b[0m\u001b[0;34m\u001b[0m\u001b[0;34m\u001b[0m\u001b[0;34m\u001b[0m\u001b[0m\n\u001b[0;32m----> 9\u001b[0;31m         \u001b[0mstimbox\u001b[0m \u001b[0;34m=\u001b[0m \u001b[0mstimulus_positions\u001b[0m\u001b[0;34m.\u001b[0m\u001b[0mloc\u001b[0m\u001b[0;34m[\u001b[0m\u001b[0mi\u001b[0m\u001b[0;34m]\u001b[0m\u001b[0;34m.\u001b[0m\u001b[0mvalues\u001b[0m\u001b[0;34m.\u001b[0m\u001b[0mastype\u001b[0m\u001b[0;34m(\u001b[0m\u001b[0mnp\u001b[0m\u001b[0;34m.\u001b[0m\u001b[0mint\u001b[0m\u001b[0;34m)\u001b[0m\u001b[0;34m\u001b[0m\u001b[0;34m\u001b[0m\u001b[0m\n\u001b[0m\u001b[1;32m     10\u001b[0m         \u001b[0;31m# get target size\u001b[0m\u001b[0;34m\u001b[0m\u001b[0;34m\u001b[0m\u001b[0;34m\u001b[0m\u001b[0m\n\u001b[1;32m     11\u001b[0m         \u001b[0mstimsize\u001b[0m \u001b[0;34m=\u001b[0m \u001b[0;34m(\u001b[0m\u001b[0mstimbox\u001b[0m\u001b[0;34m[\u001b[0m\u001b[0;36m2\u001b[0m\u001b[0;34m]\u001b[0m\u001b[0;34m-\u001b[0m\u001b[0mstimbox\u001b[0m\u001b[0;34m[\u001b[0m\u001b[0;36m0\u001b[0m\u001b[0;34m]\u001b[0m\u001b[0;34m,\u001b[0m \u001b[0mstimbox\u001b[0m\u001b[0;34m[\u001b[0m\u001b[0;36m3\u001b[0m\u001b[0;34m]\u001b[0m\u001b[0;34m-\u001b[0m\u001b[0mstimbox\u001b[0m\u001b[0;34m[\u001b[0m\u001b[0;36m1\u001b[0m\u001b[0;34m]\u001b[0m\u001b[0;34m)\u001b[0m\u001b[0;34m\u001b[0m\u001b[0;34m\u001b[0m\u001b[0m\n",
      "\u001b[0;32m/opt/miniconda3/envs/GLAM/lib/python3.6/site-packages/pandas/core/indexing.py\u001b[0m in \u001b[0;36m__getitem__\u001b[0;34m(self, key)\u001b[0m\n\u001b[1;32m    877\u001b[0m \u001b[0;34m\u001b[0m\u001b[0m\n\u001b[1;32m    878\u001b[0m             \u001b[0mmaybe_callable\u001b[0m \u001b[0;34m=\u001b[0m \u001b[0mcom\u001b[0m\u001b[0;34m.\u001b[0m\u001b[0mapply_if_callable\u001b[0m\u001b[0;34m(\u001b[0m\u001b[0mkey\u001b[0m\u001b[0;34m,\u001b[0m \u001b[0mself\u001b[0m\u001b[0;34m.\u001b[0m\u001b[0mobj\u001b[0m\u001b[0;34m)\u001b[0m\u001b[0;34m\u001b[0m\u001b[0;34m\u001b[0m\u001b[0m\n\u001b[0;32m--> 879\u001b[0;31m             \u001b[0;32mreturn\u001b[0m \u001b[0mself\u001b[0m\u001b[0;34m.\u001b[0m\u001b[0m_getitem_axis\u001b[0m\u001b[0;34m(\u001b[0m\u001b[0mmaybe_callable\u001b[0m\u001b[0;34m,\u001b[0m \u001b[0maxis\u001b[0m\u001b[0;34m=\u001b[0m\u001b[0maxis\u001b[0m\u001b[0;34m)\u001b[0m\u001b[0;34m\u001b[0m\u001b[0;34m\u001b[0m\u001b[0m\n\u001b[0m\u001b[1;32m    880\u001b[0m \u001b[0;34m\u001b[0m\u001b[0m\n\u001b[1;32m    881\u001b[0m     \u001b[0;32mdef\u001b[0m \u001b[0m_is_scalar_access\u001b[0m\u001b[0;34m(\u001b[0m\u001b[0mself\u001b[0m\u001b[0;34m,\u001b[0m \u001b[0mkey\u001b[0m\u001b[0;34m:\u001b[0m \u001b[0mTuple\u001b[0m\u001b[0;34m)\u001b[0m\u001b[0;34m:\u001b[0m\u001b[0;34m\u001b[0m\u001b[0;34m\u001b[0m\u001b[0m\n",
      "\u001b[0;32m/opt/miniconda3/envs/GLAM/lib/python3.6/site-packages/pandas/core/indexing.py\u001b[0m in \u001b[0;36m_getitem_axis\u001b[0;34m(self, key, axis)\u001b[0m\n\u001b[1;32m   1108\u001b[0m         \u001b[0;31m# fall thru to straight lookup\u001b[0m\u001b[0;34m\u001b[0m\u001b[0;34m\u001b[0m\u001b[0;34m\u001b[0m\u001b[0m\n\u001b[1;32m   1109\u001b[0m         \u001b[0mself\u001b[0m\u001b[0;34m.\u001b[0m\u001b[0m_validate_key\u001b[0m\u001b[0;34m(\u001b[0m\u001b[0mkey\u001b[0m\u001b[0;34m,\u001b[0m \u001b[0maxis\u001b[0m\u001b[0;34m)\u001b[0m\u001b[0;34m\u001b[0m\u001b[0;34m\u001b[0m\u001b[0m\n\u001b[0;32m-> 1110\u001b[0;31m         \u001b[0;32mreturn\u001b[0m \u001b[0mself\u001b[0m\u001b[0;34m.\u001b[0m\u001b[0m_get_label\u001b[0m\u001b[0;34m(\u001b[0m\u001b[0mkey\u001b[0m\u001b[0;34m,\u001b[0m \u001b[0maxis\u001b[0m\u001b[0;34m=\u001b[0m\u001b[0maxis\u001b[0m\u001b[0;34m)\u001b[0m\u001b[0;34m\u001b[0m\u001b[0;34m\u001b[0m\u001b[0m\n\u001b[0m\u001b[1;32m   1111\u001b[0m \u001b[0;34m\u001b[0m\u001b[0m\n\u001b[1;32m   1112\u001b[0m     \u001b[0;32mdef\u001b[0m \u001b[0m_get_slice_axis\u001b[0m\u001b[0;34m(\u001b[0m\u001b[0mself\u001b[0m\u001b[0;34m,\u001b[0m \u001b[0mslice_obj\u001b[0m\u001b[0;34m:\u001b[0m \u001b[0mslice\u001b[0m\u001b[0;34m,\u001b[0m \u001b[0maxis\u001b[0m\u001b[0;34m:\u001b[0m \u001b[0mint\u001b[0m\u001b[0;34m)\u001b[0m\u001b[0;34m:\u001b[0m\u001b[0;34m\u001b[0m\u001b[0;34m\u001b[0m\u001b[0m\n",
      "\u001b[0;32m/opt/miniconda3/envs/GLAM/lib/python3.6/site-packages/pandas/core/indexing.py\u001b[0m in \u001b[0;36m_get_label\u001b[0;34m(self, label, axis)\u001b[0m\n\u001b[1;32m   1057\u001b[0m     \u001b[0;32mdef\u001b[0m \u001b[0m_get_label\u001b[0m\u001b[0;34m(\u001b[0m\u001b[0mself\u001b[0m\u001b[0;34m,\u001b[0m \u001b[0mlabel\u001b[0m\u001b[0;34m,\u001b[0m \u001b[0maxis\u001b[0m\u001b[0;34m:\u001b[0m \u001b[0mint\u001b[0m\u001b[0;34m)\u001b[0m\u001b[0;34m:\u001b[0m\u001b[0;34m\u001b[0m\u001b[0;34m\u001b[0m\u001b[0m\n\u001b[1;32m   1058\u001b[0m         \u001b[0;31m# GH#5667 this will fail if the label is not present in the axis.\u001b[0m\u001b[0;34m\u001b[0m\u001b[0;34m\u001b[0m\u001b[0;34m\u001b[0m\u001b[0m\n\u001b[0;32m-> 1059\u001b[0;31m         \u001b[0;32mreturn\u001b[0m \u001b[0mself\u001b[0m\u001b[0;34m.\u001b[0m\u001b[0mobj\u001b[0m\u001b[0;34m.\u001b[0m\u001b[0mxs\u001b[0m\u001b[0;34m(\u001b[0m\u001b[0mlabel\u001b[0m\u001b[0;34m,\u001b[0m \u001b[0maxis\u001b[0m\u001b[0;34m=\u001b[0m\u001b[0maxis\u001b[0m\u001b[0;34m)\u001b[0m\u001b[0;34m\u001b[0m\u001b[0;34m\u001b[0m\u001b[0m\n\u001b[0m\u001b[1;32m   1060\u001b[0m \u001b[0;34m\u001b[0m\u001b[0m\n\u001b[1;32m   1061\u001b[0m     \u001b[0;32mdef\u001b[0m \u001b[0m_handle_lowerdim_multi_index_axis0\u001b[0m\u001b[0;34m(\u001b[0m\u001b[0mself\u001b[0m\u001b[0;34m,\u001b[0m \u001b[0mtup\u001b[0m\u001b[0;34m:\u001b[0m \u001b[0mTuple\u001b[0m\u001b[0;34m)\u001b[0m\u001b[0;34m:\u001b[0m\u001b[0;34m\u001b[0m\u001b[0;34m\u001b[0m\u001b[0m\n",
      "\u001b[0;32m/opt/miniconda3/envs/GLAM/lib/python3.6/site-packages/pandas/core/generic.py\u001b[0m in \u001b[0;36mxs\u001b[0;34m(self, key, axis, level, drop_level)\u001b[0m\n\u001b[1;32m   3515\u001b[0m                 \u001b[0mindex\u001b[0m\u001b[0;34m=\u001b[0m\u001b[0mself\u001b[0m\u001b[0;34m.\u001b[0m\u001b[0mcolumns\u001b[0m\u001b[0;34m,\u001b[0m\u001b[0;34m\u001b[0m\u001b[0;34m\u001b[0m\u001b[0m\n\u001b[1;32m   3516\u001b[0m                 \u001b[0mname\u001b[0m\u001b[0;34m=\u001b[0m\u001b[0mself\u001b[0m\u001b[0;34m.\u001b[0m\u001b[0mindex\u001b[0m\u001b[0;34m[\u001b[0m\u001b[0mloc\u001b[0m\u001b[0;34m]\u001b[0m\u001b[0;34m,\u001b[0m\u001b[0;34m\u001b[0m\u001b[0;34m\u001b[0m\u001b[0m\n\u001b[0;32m-> 3517\u001b[0;31m                 \u001b[0mdtype\u001b[0m\u001b[0;34m=\u001b[0m\u001b[0mnew_values\u001b[0m\u001b[0;34m.\u001b[0m\u001b[0mdtype\u001b[0m\u001b[0;34m,\u001b[0m\u001b[0;34m\u001b[0m\u001b[0;34m\u001b[0m\u001b[0m\n\u001b[0m\u001b[1;32m   3518\u001b[0m             )\n\u001b[1;32m   3519\u001b[0m \u001b[0;34m\u001b[0m\u001b[0m\n",
      "\u001b[0;32m/opt/miniconda3/envs/GLAM/lib/python3.6/site-packages/pandas/core/series.py\u001b[0m in \u001b[0;36m__init__\u001b[0;34m(self, data, index, dtype, name, copy, fastpath)\u001b[0m\n\u001b[1;32m    325\u001b[0m                     \u001b[0mdata\u001b[0m \u001b[0;34m=\u001b[0m \u001b[0mdata\u001b[0m\u001b[0;34m.\u001b[0m\u001b[0mcopy\u001b[0m\u001b[0;34m(\u001b[0m\u001b[0;34m)\u001b[0m\u001b[0;34m\u001b[0m\u001b[0;34m\u001b[0m\u001b[0m\n\u001b[1;32m    326\u001b[0m             \u001b[0;32melse\u001b[0m\u001b[0;34m:\u001b[0m\u001b[0;34m\u001b[0m\u001b[0;34m\u001b[0m\u001b[0m\n\u001b[0;32m--> 327\u001b[0;31m                 \u001b[0mdata\u001b[0m \u001b[0;34m=\u001b[0m \u001b[0msanitize_array\u001b[0m\u001b[0;34m(\u001b[0m\u001b[0mdata\u001b[0m\u001b[0;34m,\u001b[0m \u001b[0mindex\u001b[0m\u001b[0;34m,\u001b[0m \u001b[0mdtype\u001b[0m\u001b[0;34m,\u001b[0m \u001b[0mcopy\u001b[0m\u001b[0;34m,\u001b[0m \u001b[0mraise_cast_failure\u001b[0m\u001b[0;34m=\u001b[0m\u001b[0;32mTrue\u001b[0m\u001b[0;34m)\u001b[0m\u001b[0;34m\u001b[0m\u001b[0;34m\u001b[0m\u001b[0m\n\u001b[0m\u001b[1;32m    328\u001b[0m \u001b[0;34m\u001b[0m\u001b[0m\n\u001b[1;32m    329\u001b[0m                 \u001b[0mdata\u001b[0m \u001b[0;34m=\u001b[0m \u001b[0mSingleBlockManager\u001b[0m\u001b[0;34m.\u001b[0m\u001b[0mfrom_array\u001b[0m\u001b[0;34m(\u001b[0m\u001b[0mdata\u001b[0m\u001b[0;34m,\u001b[0m \u001b[0mindex\u001b[0m\u001b[0;34m)\u001b[0m\u001b[0;34m\u001b[0m\u001b[0;34m\u001b[0m\u001b[0m\n",
      "\u001b[0;32m/opt/miniconda3/envs/GLAM/lib/python3.6/site-packages/pandas/core/construction.py\u001b[0m in \u001b[0;36msanitize_array\u001b[0;34m(data, index, dtype, copy, raise_cast_failure)\u001b[0m\n\u001b[1;32m    510\u001b[0m                 \u001b[0msubarr\u001b[0m \u001b[0;34m=\u001b[0m \u001b[0mnp\u001b[0m\u001b[0;34m.\u001b[0m\u001b[0marray\u001b[0m\u001b[0;34m(\u001b[0m\u001b[0mdata\u001b[0m\u001b[0;34m,\u001b[0m \u001b[0mdtype\u001b[0m\u001b[0;34m=\u001b[0m\u001b[0mobject\u001b[0m\u001b[0;34m,\u001b[0m \u001b[0mcopy\u001b[0m\u001b[0;34m=\u001b[0m\u001b[0mcopy\u001b[0m\u001b[0;34m)\u001b[0m\u001b[0;34m\u001b[0m\u001b[0;34m\u001b[0m\u001b[0m\n\u001b[1;32m    511\u001b[0m \u001b[0;34m\u001b[0m\u001b[0m\n\u001b[0;32m--> 512\u001b[0;31m         \u001b[0;32mif\u001b[0m \u001b[0mis_object_dtype\u001b[0m\u001b[0;34m(\u001b[0m\u001b[0msubarr\u001b[0m\u001b[0;34m.\u001b[0m\u001b[0mdtype\u001b[0m\u001b[0;34m)\u001b[0m \u001b[0;32mand\u001b[0m \u001b[0;32mnot\u001b[0m \u001b[0mis_object_dtype\u001b[0m\u001b[0;34m(\u001b[0m\u001b[0mdtype\u001b[0m\u001b[0;34m)\u001b[0m\u001b[0;34m:\u001b[0m\u001b[0;34m\u001b[0m\u001b[0;34m\u001b[0m\u001b[0m\n\u001b[0m\u001b[1;32m    513\u001b[0m             \u001b[0minferred\u001b[0m \u001b[0;34m=\u001b[0m \u001b[0mlib\u001b[0m\u001b[0;34m.\u001b[0m\u001b[0minfer_dtype\u001b[0m\u001b[0;34m(\u001b[0m\u001b[0msubarr\u001b[0m\u001b[0;34m,\u001b[0m \u001b[0mskipna\u001b[0m\u001b[0;34m=\u001b[0m\u001b[0;32mFalse\u001b[0m\u001b[0;34m)\u001b[0m\u001b[0;34m\u001b[0m\u001b[0;34m\u001b[0m\u001b[0m\n\u001b[1;32m    514\u001b[0m             \u001b[0;32mif\u001b[0m \u001b[0minferred\u001b[0m \u001b[0;32min\u001b[0m \u001b[0;34m{\u001b[0m\u001b[0;34m\"interval\"\u001b[0m\u001b[0;34m,\u001b[0m \u001b[0;34m\"period\"\u001b[0m\u001b[0;34m}\u001b[0m\u001b[0;34m:\u001b[0m\u001b[0;34m\u001b[0m\u001b[0;34m\u001b[0m\u001b[0m\n",
      "\u001b[0;31mKeyboardInterrupt\u001b[0m: "
     ]
    }
   ],
   "source": [
    "# generate visual search GIF for each empirical trial\n",
    "\n",
    "np.random.seed(1)\n",
    "\n",
    "for setsize in setsizes:\n",
    "    # load data\n",
    "    setsize_data = pd.read_csv(data_dir+'summary_files/{}_data.csv'.format(setsize))\n",
    "    stimulus_positions = pd.read_csv(data_dir+'stimulus_positions/{}_stimulus_positions.csv'.format(setsize), header=None)\n",
    "    stimulus_centers = np.concatenate(((stimulus_positions.loc[:,0].values+0.5*(stimulus_positions.loc[:,2].values-stimulus_positions.loc[:,0].values))[:,None],\n",
    "                                       (stimulus_positions.loc[:,1].values+0.5*(stimulus_positions.loc[:,3].values-stimulus_positions.loc[:,1].values))[:,None]), axis=1)\n",
    "    for subject in subjects:\n",
    "        # subset & load data\n",
    "        subject_data = setsize_data[setsize_data['subject']==subject].copy()\n",
    "        subject_gaze_data = pd.read_csv(data_dir+'subject_files/{}_{}_fixations.csv'.format(subject, setsize))\n",
    "        # get trials\n",
    "        trials = subject_gaze_data.trial.unique()\n",
    "        for trial in trials:\n",
    "            # define filepath\n",
    "            gif_filepath = video_dir+'setsize-{}_sub-{}_trial-{}.gif'.format(setsize, subject, trial)\n",
    "            if not os.path.isfile(gif_filepath):\n",
    "                print('Processing: setsize: {}, subject: {}, trial: {}'.format(setsize, subject, trial))\n",
    "                # subset data\n",
    "                trial_data = subject_data[subject_data['trial']==trial].copy()\n",
    "                trial_gaze_data = subject_gaze_data[subject_gaze_data['trial']==trial].copy()\n",
    "                # get trial stimuli\n",
    "                trial_stimuli = trial_data[['stimulus_{}'.format(i) for i in range(setsize)]].values[0]\n",
    "                # make fix screen\n",
    "                fix_screen = make_fix_screen()\n",
    "                # make choice screen\n",
    "                trial_img = [fix_screen]\n",
    "                for fi, fixitem in enumerate(trial_gaze_data['item'].values.astype(np.int)):\n",
    "                    # make choice screen\n",
    "                    fix_screen = make_choice_screen(trial_stimuli, stimulus_positions, stimulus_dir)\n",
    "                    # add fixation markers\n",
    "                    fix_screen = draw_gaze_marker(fix_screen, stimulus_positions.loc[fixitem])\n",
    "                    # collect\n",
    "                    trial_img.append(fix_screen)\n",
    "                # add choice indication\n",
    "                choice_screen = make_choice_screen(trial_stimuli, stimulus_positions, stimulus_dir)\n",
    "                choice_screen = draw_gaze_marker(choice_screen,\n",
    "                                                 stimulus_positions.loc[trial_data['choice'].values[0]],\n",
    "                                                 color='red', width=5)\n",
    "                trial_img.append(choice_screen)\n",
    "                # make gif & save\n",
    "                trial_img[0].save(gif_filepath, save_all=True, optimize=False, append_images=trial_img[1:], loop=0, \n",
    "                                  duration=[500*2]+list(trial_gaze_data['dur'].values.astype(np.int)*2)+[500*2])"
   ]
  }
 ],
 "metadata": {
  "kernelspec": {
   "display_name": "Python 3",
   "language": "python",
   "name": "python3"
  },
  "language_info": {
   "codemirror_mode": {
    "name": "ipython",
    "version": 3
   },
   "file_extension": ".py",
   "mimetype": "text/x-python",
   "name": "python",
   "nbconvert_exporter": "python",
   "pygments_lexer": "ipython3",
   "version": "3.6.12"
  }
 },
 "nbformat": 4,
 "nbformat_minor": 2
}
